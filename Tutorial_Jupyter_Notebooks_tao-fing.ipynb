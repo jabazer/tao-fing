{
  "nbformat": 4,
  "nbformat_minor": 0,
  "metadata": {
    "colab": {
      "name": "Tutorial_Jupyter-Notebooks_seys.ipynb",
      "version": "0.3.2",
      "provenance": [],
      "collapsed_sections": [],
      "include_colab_link": true
    },
    "kernelspec": {
      "name": "python3",
      "display_name": "Python 3"
    }
  },
  "cells": [
    {
      "cell_type": "markdown",
      "metadata": {
        "id": "view-in-github",
        "colab_type": "text"
      },
      "source": [
        "<a href=\"https://colab.research.google.com/github/jabazer/tao-fing/blob/master/Tutorial_Jupyter_Notebooks_tao-fing.ipynb\" target=\"_parent\"><img src=\"https://colab.research.google.com/assets/colab-badge.svg\" alt=\"Open In Colab\"/></a>"
      ]
    },
    {
      "cell_type": "markdown",
      "metadata": {
        "id": "xXm1AAxUBsUm",
        "colab_type": "text"
      },
      "source": [
        "##Tutorial para ejecutar archivos .ipynb (Jupyter Notebooks) con scripts de Python\n",
        "\n",
        "Durante el curso iremos presentando algunos scripts o programas con una posible implementación de algunos métodos, verificar resultados o ver ejemplos del tipo de problemas de optimización que se presentan.\n",
        "\n",
        "Este  tutorial explica como usar un [Jupyter Notebook](https://jupyter.org/) y ejecutar un script en [Python ](https://www.python.org/) contenido en él.  La ventaja de utilizar Jupyter Notebooks es que en este formato podemos hacerles llegar un texto como el que están leyendo en este momento, junto con ecuaciones como por ejemplo la de una exponencial\n",
        "\n",
        "$$y=e^{a'x+b}$$\n",
        "\n",
        "y también una celda código en que nosotros implementemos estas ecuaciones, como por ejemplo"
      ]
    },
    {
      "cell_type": "code",
      "metadata": {
        "id": "lxBb6HzLXaRY",
        "colab_type": "code",
        "outputId": "81af9019-3045-44e5-ee4e-a80800585343",
        "colab": {
          "base_uri": "https://localhost:8080/",
          "height": 34
        }
      },
      "source": [
        "#Teoría y Algoritmia de Optimización, 2019. Fing-Udelar.\n",
        "\n",
        "# Importar funciones necesarias\n",
        "import numpy as np\n",
        "import matplotlib.pyplot as plt\n",
        "\n",
        "# =============================================================================\n",
        "# Función que retorna exp(at)\n",
        "# =============================================================================\n",
        "def exponencial(t,a,b):\n",
        "    return np.exp(a*t+b)\n",
        "\n",
        "# Evaluamos e^{j\\pi} + 1\n",
        "a = 1j\n",
        "b = 0\n",
        "t = np.pi\n",
        "\n",
        "y = exponencial( t, a,b ) + 1\n",
        "\n",
        "print(y)"
      ],
      "execution_count": 6,
      "outputs": [
        {
          "output_type": "stream",
          "text": [
            "1.2246467991473532e-16j\n"
          ],
          "name": "stdout"
        }
      ]
    },
    {
      "cell_type": "markdown",
      "metadata": {
        "id": "fdj8Drk_M9ot",
        "colab_type": "text"
      },
      "source": [
        "##Cómo ejecutar el código\n",
        "\n",
        "Para ejecutar el código uno debe abrir el archivo .ipynb en un servidor según se explica en la siguiente sección. Una vez abierto en el entorno correcto, puede ejecutarse la celda de arriba y obtener el resultado 1.2246467991473532e-16j.  Para ello se debe presionar con el mouse sobre la flecha en la esquina superior izquierda de la celda o seleccionar la celda y correr el script mediante la opción  \"run\" en la barra de herramientas del servidor.\n",
        "\n",
        "Las siguientes celdas de código (ver más abajo) pueden ejecutarse a continuación. Las celdas deben ejecutarse en el orden natural para que el código se vaya corriendo de forma correcta. Sin embargo, también es posible modificar una celda de código y volver a ejecutarla sin necesidad de volver a ejecutar una celda anterior. De esta forma los estudiantes podrán modificar algún parámetro y evaluar los cambios sin necesidad de ejecutar todo el código nuevamente. El siguiente es un ejemplo que utiliza la función exponencialCompleja definida en la primer celda."
      ]
    },
    {
      "cell_type": "code",
      "metadata": {
        "id": "E2AZ3q18M70d",
        "colab_type": "code",
        "outputId": "0cbe1f9e-fcb1-4c80-eecb-2c454fce57c5",
        "colab": {
          "base_uri": "https://localhost:8080/",
          "height": 286
        }
      },
      "source": [
        "# =============================================================================\n",
        "# Graficar 2 e^{-t}\n",
        "# =============================================================================\n",
        "a = -1\n",
        "b=np.log(2)\n",
        "t = np.linspace(0, 10, 5000)\n",
        "z = exponencial( t, a,b )\n",
        "plt.plot(  z )  \n",
        "  "
      ],
      "execution_count": 11,
      "outputs": [
        {
          "output_type": "execute_result",
          "data": {
            "text/plain": [
              "[<matplotlib.lines.Line2D at 0x7f99cf9e7a58>]"
            ]
          },
          "metadata": {
            "tags": []
          },
          "execution_count": 11
        },
        {
          "output_type": "display_data",
          "data": {
            "image/png": "[encoded data removed]",
            "text/plain": [
              "<Figure size 432x288 with 1 Axes>"
            ]
          },
          "metadata": {
            "tags": []
          }
        }
      ]
    },
    {
      "cell_type": "markdown",
      "metadata": {
        "id": "sAKcMr-cNo9N",
        "colab_type": "text"
      },
      "source": [
        "\n",
        "\n",
        "## Como acceder a los archivos .ipynb y dónde ejecutarlos\n",
        "\n",
        "Los notebooks del curso de Teoría y Algoritmia de Optimización, incluso  éste mismo, se encuentran en el repositorio público de GitHub  https://github.com/jabazer/tao-fing bajo el formato de Jupyter Notebooks (*.ipynb). Este formato permite leer los documentos y ejecutar los bloques de código de forma interactiva directamente través de un navegador web. \n",
        "\n",
        "Una forma de ejecutar los notebooks sin necesidad de instalar un entorno en un servidor propio es a través de servidores que permiten cargar y ejecutar notebooks de forma interactiva. Las siguientes son algunas opciones para correr los scripts que iremos haciendo públicos.\n",
        "\n",
        "### Opción 1\n",
        "Se puede acceder a  los  .ipynb de seys en GitHub y ejecutarlos de forma interactiva a través del siguiente enlace, sin necesidad de crear un usuario: https://mybinder.org/v2/gh/jabazer/tao-fing/master.\n",
        "\n",
        "A través de ese enalce se accede a los .ipynb del repositorio GitHub de seys (GitHub y MyBinder están conectados). Desde allí pueden ejecutarse directamente. \n",
        "Una vez que cargue el servidor,  se muestra el conjunto de archivos .ipynb de seys. Los archivos de extensión .ipynb son notebooks ejecutables, se abren haciendo click sobre ellos. \n",
        "Cuando el  .ipynb que se eligió esté  abierto en mybinder, se pueden elegir una celda  y correr el escript en ella desde  la barra de herramientas.\n",
        "\n",
        "### Opción 2\n",
        "Desde el entorno de desarrollo [Colaboratory](https://colab.research.google.com/) puede seleccionarse GitHub, y abrir el GitHub de seys con el enlace https://github.com/jabazer/tao-fing, donde aparecen los  .ipynb de seys. Allí se ejecuta cada script presionando la  flecha en el ángulo superior izquierdo de la celda. \n",
        "\n",
        "El entorno Colaboratory pertenece a Google y para ejecutar un .ipynb interactivamente desde allí se precisa un usuario de GMail. \n",
        "\n",
        "### Opción 3\n",
        "También pueden usarse instalaciones locales de entornos Python, por ejemplo, [Anaconda](https://www.anaconda.com/) o [Miniconda](https://docs.conda.io/en/latest/miniconda.html). "
      ]
    }
  ]
}