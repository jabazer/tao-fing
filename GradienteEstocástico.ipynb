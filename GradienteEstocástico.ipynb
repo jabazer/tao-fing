{
  "nbformat": 4,
  "nbformat_minor": 0,
  "metadata": {
    "colab": {
      "name": "GradienteEstocástico.ipynb",
      "provenance": [],
      "collapsed_sections": [],
      "include_colab_link": true
    },
    "kernelspec": {
      "name": "python3",
      "display_name": "Python 3"
    }
  },
  "cells": [
    {
      "cell_type": "markdown",
      "metadata": {
        "id": "view-in-github",
        "colab_type": "text"
      },
      "source": [
        "<a href=\"https://colab.research.google.com/github/jabazer/tao-fing/blob/master/GradienteEstoc%C3%A1stico.ipynb\" target=\"_parent\"><img src=\"https://colab.research.google.com/assets/colab-badge.svg\" alt=\"Open In Colab\"/></a>"
      ]
    },
    {
      "cell_type": "code",
      "metadata": {
        "id": "ZxNP2uruteMQ"
      },
      "source": [
        "# Import packages.\n",
        "import cvxpy as cp\n",
        "import numpy as np\n",
        "import matplotlib.pyplot as plt\n",
        "from IPython import display\n",
        "import pylab as pl\n",
        "\n"
      ],
      "execution_count": 24,
      "outputs": []
    },
    {
      "cell_type": "markdown",
      "metadata": {
        "id": "fyHK-cAGeFGw"
      },
      "source": [
        "En este último notebook volvemos al método más sencillo de optimización, descenso por gradiente, pero agregamos ruido modelado como variables aleatorias o procesos estocásticos.\n",
        "\n",
        "El resultante es un método para diseñar algoritmos que procesen datos aleatorios recursivamente, y es base de tres familias de algoritmos de aprendizaje automático\n",
        "\n",
        "1) Reinforcement learning\n",
        "\n",
        "2) Neural networks\n",
        "\n",
        "3) Linear mean square filters\n",
        "\n",
        "En este caso tenemos que la función a minimizar es la esperanza de una función aleatoria\n",
        "\n",
        "$$f(\\theta)=E_{\\xi}\\left[F(\\theta,\\xi)\\right]$$\n",
        "\n",
        "donde $\\xi$ es la variable aleatoria, y $\\theta$ la variable determinística que \n",
        "queremos obtener.\n",
        "\n",
        "Luego queremos resolver \n",
        "\n",
        "\\begin{align}\n",
        "\\min_{\\theta\\in \\mathcal \\Theta}& f(\\theta)\\\\\n",
        "=\\min_{\\theta\\in  \\Theta}& E_{\\xi}\\left[F(\\theta,\\xi)\\right]\\\\\n",
        "=\\min_{\\theta\\in  \\Theta}& \\int p(\\xi)F(\\theta,\\xi) d\\xi\n",
        "\\end{align}\n",
        "\n",
        "\n",
        "\n",
        "\n",
        "Si aplicamos descenso por gradiente a este problema tenemos \n",
        "\n",
        "\\begin{align}\n",
        "\\theta^{k+1}&=\\theta^k+\\alpha_k \\nabla_\\theta f(\\theta^k)\\\\\n",
        "\\theta^{k+1}&=\\theta^k+\\alpha_k \\nabla_\\theta E_{\\xi}\\left[F(\\theta,\\xi)\\right]\n",
        "\\end{align}\n",
        "\n",
        "Si pudieramos calcular la esperanza, entonces simplemente corremos el algoritmo de arriba. \n",
        "\n",
        "Si en cambio tenemos una muestra de la variable aleatoria $w^k$, o mejor el del gradiente estocástico entonces podemos simplemente tirar la esperanza y usar una muestra\n",
        "\n",
        "\\begin{align}\n",
        "\\hat \\theta^{k+1}&=\\hat \\theta^k+\\alpha_k \\nabla_\\theta  F(\\theta^k,\\xi^k)\n",
        "\\end{align}\n",
        "\n",
        "Idea, el gradiente es un acumulador que acumula promedios recursivamente, y estos aproximan la esperanza \n",
        "\n",
        "De hecho uno no tiene por qué quedarse con una sola muestra y puede hacer bacth stochastic gradient descent\n",
        "\n",
        "\n",
        "\n",
        "\\begin{align}\n",
        "\\hat \\theta^{k+1}&=\\hat \\theta^k+\\alpha_k \\sum_{n=1}^N \\nabla_\\theta  F(\\theta^k,\\xi^k_n)\n",
        "\\end{align}\n",
        "\n",
        "\n",
        "Es algoritmo de SGD corresponde a usar una sola muestra por iteración  $N=1$\n",
        "\n",
        "Ejemplo\n",
        "\n",
        "$$y=A\\theta_0+\\xi, \\text{ con } \\xi_i\\sim \\mathcal N(0,\\sigma^2),\\ i=1,2$$\n",
        "\n",
        "Queremos resolver\n",
        "\n",
        "\\begin{align}\n",
        "\\min_{\\theta\\in \\mathbb R^2}E\\left[||A\\theta -y||^2\\right]\n",
        "\\end{align}\n",
        "\n",
        "El gradiente es \n",
        "\n",
        "\n",
        "\\begin{align}\n",
        "E\\left[2A^TA\\theta -2A^Ty\\right]\n",
        "\\end{align}\n",
        "\n",
        "El gradiente estocástico\n",
        "\n",
        "\\begin{align}\n",
        "2A^TA\\theta -2A^Ty\n",
        "\\end{align}\n",
        "\n",
        "para ello necesitamos muestras de la variable aleatoria $y$\n",
        "\n",
        "Entonces corremos\n",
        "\\begin{align}\n",
        "\\hat \\theta^{k+1}&=\\hat \\theta^k+\\alpha_k\\left(2A^TA\\theta^k -2A^Ty^k\\right) \n",
        "\\end{align}\n",
        "\n",
        "\n"
      ]
    },
    {
      "cell_type": "code",
      "metadata": {
        "id": "YXMhF2-onCjr",
        "colab": {
          "base_uri": "https://localhost:8080/",
          "height": 286
        },
        "outputId": "7dd016a3-38bb-4d85-b44a-3d89389f074e"
      },
      "source": [
        "sigma=2\n",
        "#sigma=0\n",
        "A=[[2, 1],\n",
        "   [1, 2]]\n",
        "I=[[1, 0],\n",
        "   [0, 1]]\n",
        "AT=np.transpose(A)\n",
        "ATA=np.dot(AT,A)\n",
        "theta_0=np.transpose([1,1])\n",
        "trayectoria0=np.array([])\n",
        "trayectoria1=np.array([])\n",
        "theta=np.array([0,0])\n",
        "for k in np.arange(500):\n",
        "    trayectoria0=np.append(trayectoria0,theta[0])\n",
        "    trayectoria1=np.append(trayectoria1,theta[1])\n",
        "    alpha=1/(10*k**2+1000)\n",
        "    #alpha=1/(1000)\n",
        "    xi = np.random.normal(0, sigma, 2)\n",
        "    y=np.dot(A,theta_0)+xi;\n",
        "    gradiente_estocastico=2*np.dot(ATA,theta)-2*np.dot(AT,y)\n",
        "    theta=theta-alpha*gradiente_estocastico;\n",
        "pl.plot(trayectoria0,trayectoria1,'bo-')\n",
        "pl.xlim(0, 2)\n",
        "pl.ylim(0, 2)\n"
      ],
      "execution_count": 49,
      "outputs": [
        {
          "output_type": "execute_result",
          "data": {
            "text/plain": [
              "(0.0, 2.0)"
            ]
          },
          "metadata": {},
          "execution_count": 49
        },
        {
          "output_type": "display_data",
          "data": {
            "image/png": "[encoded data removed]",
            "text/plain": [
              "<Figure size 432x288 with 1 Axes>"
            ]
          },
          "metadata": {
            "needs_background": "light"
          }
        }
      ]
    }
  ]
}