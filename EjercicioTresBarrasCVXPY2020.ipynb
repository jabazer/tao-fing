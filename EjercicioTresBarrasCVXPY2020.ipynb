{
  "nbformat": 4,
  "nbformat_minor": 0,
  "metadata": {
    "colab": {
      "name": "EjercicioTresBarrasCVXPY2020.ipynb",
      "provenance": [],
      "collapsed_sections": [],
      "include_colab_link": true
    },
    "kernelspec": {
      "name": "python3",
      "display_name": "Python 3"
    }
  },
  "cells": [
    {
      "cell_type": "markdown",
      "metadata": {
        "id": "view-in-github",
        "colab_type": "text"
      },
      "source": [
        "<a href=\"https://colab.research.google.com/github/jabazer/tao-fing/blob/master/EjercicioTresBarrasCVXPY2020.ipynb\" target=\"_parent\"><img src=\"https://colab.research.google.com/assets/colab-badge.svg\" alt=\"Open In Colab\"/></a>"
      ]
    },
    {
      "cell_type": "markdown",
      "metadata": {
        "id": "fyHK-cAGeFGw"
      },
      "source": [
        "Se quiere resolver el problema de flujo óptimo con tres barras\n",
        "\n",
        "El problema de optimización que modela esta red es \n",
        "\n",
        "\n",
        "\\begin{align}\n",
        "\\min_{(\\mathbf p,\\mathbf g)}&\\   c_1 g_1 +c_2 g_2  \\\\\n",
        "\\textrm{sujeto a: }& p_1+p3-g_1=0\\ &(\\lambda_1)\\\\\n",
        "& p_2+p3+g_2=d_2& (\\lambda_2)\\\\\n",
        "&p_1-p_2 = d_3&  (\\lambda_3)\\\\\n",
        "&p_1+p_2-p3=0&  (\\nu)\\\\\n",
        "&p_2\\leq R&  (\\mu_{1})\\\\\n",
        "&-p_2\\leq R&  (\\mu_{2})\\\\\n",
        "& g\\geq 0 &  (\\mu_{3}) \n",
        "\\end{align}\n",
        "\n",
        "\n",
        "Probar  $R=30MW$, $ d_3=10MW$ y  $d_2=170$, $c_1=1$, $c_2=4$.\n",
        "\n"
      ]
    },
    {
      "cell_type": "code",
      "metadata": {
        "id": "ZxNP2uruteMQ"
      },
      "source": [
        "# Import packages.\n",
        "import cvxpy as cp\n",
        "import numpy as np\n",
        "\n"
      ],
      "execution_count": 10,
      "outputs": []
    },
    {
      "cell_type": "code",
      "metadata": {
        "id": "YXMhF2-onCjr",
        "outputId": "3a11a7d6-37ce-43d9-8e07-c6459edf53d2",
        "colab": {
          "base_uri": "https://localhost:8080/",
          "height": 204
        }
      },
      "source": [
        "# Datos\n",
        "R=30\n",
        "d3=10\n",
        "d2=150\n",
        "c=[1,4]\n",
        "\n",
        "p = cp.Variable(3)\n",
        "g= cp.Variable(2)\n",
        "cost = cp.sum(c*g)\n",
        "constraints = [ [1,0,1]*p+[-1,0]*g==0, [0,1,1]*p+[0,1]*g==d2, [1,-1,0]*p==d3 , [1,1,-1]*p==0 , [0,1,0]*p<= R ,[0,-1,0]*p<= R, g>=0 ]\n",
        "prob = cp.Problem(cp.Minimize(cost),constraints)\n",
        "prob.solve()\n",
        "\n",
        "print(\"El costo óptimo es\", prob.value)\n",
        "print(\"La generación óptima es, %s\" %g.value)\n",
        "\n",
        "print(\"Los flujos por las líneas son, %s\" %p.value)\n",
        "print(p.value)\n",
        "\n",
        "print(\"lambda_1=, %s\" %constraints[0].dual_value)\n",
        "print(\"lambda_2=, %s\" %constraints[1].dual_value)\n",
        "print(\"lambda_3=, %s\" %constraints[2].dual_value)\n",
        "\n",
        "print(\"nu, %s\" %constraints[3].dual_value)\n",
        "print(\"mu_{1}=, %s\" %constraints[4].dual_value)\n",
        "print(\"mu_{2}=, %s\" %constraints[5].dual_value)\n",
        "print(\"mu_{3}=, %s\" %constraints[6].dual_value)\n"
      ],
      "execution_count": 19,
      "outputs": [
        {
          "output_type": "stream",
          "text": [
            "El costo óptimo es 308.0000002390722\n",
            "La generación óptima es, [111.99999992  49.00000008]\n",
            "Los flujos por las líneas son, [40.99999997 29.99999997 70.99999995]\n",
            "[40.99999997 29.99999997 70.99999995]\n",
            "lambda_1=, 1.0000000016465789\n",
            "lambda_2=, -4.000000002307486\n",
            "lambda_3=, 1.9999999990127362\n",
            "nu, -3.000000000659833\n",
            "mu_{1}=, 9.000000004447298\n",
            "mu_{2}=, 2.4678021530468685e-09\n",
            "mu_{3}=, [1.53401500e-09 8.69274332e-10]\n"
          ],
          "name": "stdout"
        }
      ]
    },
    {
      "cell_type": "markdown",
      "metadata": {
        "id": "nTP0of9J98bg"
      },
      "source": [
        "a) Probar incrementar y reducir $R$, $d_2$, y $d_3$.\n",
        "\n",
        "b) Relacionar los cambios en el costo óptimo con $\\mu_1$, $\\mu_2$,  $\\lambda_1$, $\\lambda_2$.\n",
        "\n",
        "c) ¿Baja o sube el costo al incrementar $R$?\n",
        "\n",
        "d) ¿Baja o sube el costo al incrementar $d_3$?\n"
      ]
    },
    {
      "cell_type": "code",
      "metadata": {
        "id": "g67ob8nbC0Jt"
      },
      "source": [
        "\n",
        "#Escribir código aquí"
      ],
      "execution_count": 3,
      "outputs": []
    },
    {
      "cell_type": "markdown",
      "metadata": {
        "id": "RfXvuAHaC-wj"
      },
      "source": [
        "e) Obtener un conjunto de parámetros que desactiven la restricción $|p_2-p_3|\\leq 3*R$."
      ]
    },
    {
      "cell_type": "code",
      "metadata": {
        "id": "cD0QQgz1DWDy"
      },
      "source": [
        "#Escribir código aquí"
      ],
      "execution_count": 4,
      "outputs": []
    },
    {
      "cell_type": "markdown",
      "metadata": {
        "id": "SAux8TYWDjkf"
      },
      "source": [
        "\n",
        "f) Obtener un conjunto de parámetros que activen la restricción $g\\geq 0$.\n",
        "\n",
        "g) ¿Qué sucede en este caso si se elimina la restricción  $g\\geq 0$?\n"
      ]
    },
    {
      "cell_type": "code",
      "metadata": {
        "id": "tpJFA8rIDmll"
      },
      "source": [
        "#Escribir código aquí"
      ],
      "execution_count": 5,
      "outputs": []
    },
    {
      "cell_type": "markdown",
      "metadata": {
        "id": "dNpYIMDKDnRB"
      },
      "source": [
        "\n",
        "g) ¿Qué sucede si se cambia el costo del generador en la barra 2 a $c_2=0.5$?\n"
      ]
    },
    {
      "cell_type": "code",
      "metadata": {
        "id": "XGpZUuExDzer"
      },
      "source": [
        "#Escribir código aquí"
      ],
      "execution_count": 6,
      "outputs": []
    },
    {
      "cell_type": "markdown",
      "metadata": {
        "id": "g1BXBEOyD0Hn"
      },
      "source": [
        "h) Repetir para un costo cuadrático $c(g_1,g_2)=g_1^2+g_2^2$. \n"
      ]
    },
    {
      "cell_type": "code",
      "metadata": {
        "id": "UHBsmOcZEBsz"
      },
      "source": [
        "#Escribir código aquí"
      ],
      "execution_count": 7,
      "outputs": []
    },
    {
      "cell_type": "markdown",
      "metadata": {
        "id": "lCKiGpCrCLSB"
      },
      "source": [
        "i) Escribir el problema de DC-OPF para la red de la siguiente figura, e implementarlo en CVX.$"
      ]
    },
    {
      "cell_type": "code",
      "metadata": {
        "id": "OSWLje0xJ3G9",
        "outputId": "5bb43793-7d9e-40dc-e153-ff0136144b61",
        "colab": {
          "base_uri": "https://localhost:8080/",
          "height": 239
        }
      },
      "source": [
        "from IPython.display import Image\n",
        "from IPython.core.display import HTML \n",
        "\n",
        "\n",
        "Image(url= \"https://drive.google.com/uc?id=1zKqS2zehsZ2IxdM8sdNr7CHbdVfmTxtW\", width=400)\n"
      ],
      "execution_count": 8,
      "outputs": [
        {
          "output_type": "execute_result",
          "data": {
            "text/html": [
              "<img src=\"https://drive.google.com/uc?id=1zKqS2zehsZ2IxdM8sdNr7CHbdVfmTxtW\" width=\"400\"/>"
            ],
            "text/plain": [
              "<IPython.core.display.Image object>"
            ]
          },
          "metadata": {
            "tags": []
          },
          "execution_count": 8
        }
      ]
    }
  ]
}