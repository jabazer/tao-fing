{
  "nbformat": 4,
  "nbformat_minor": 0,
  "metadata": {
    "colab": {
      "name": "LassoCVXPY.ipynb",
      "version": "0.3.2",
      "provenance": [],
      "include_colab_link": true
    },
    "kernelspec": {
      "name": "python3",
      "display_name": "Python 3"
    }
  },
  "cells": [
    {
      "cell_type": "markdown",
      "metadata": {
        "id": "view-in-github",
        "colab_type": "text"
      },
      "source": [
        "<a href=\"https://colab.research.google.com/github/jabazer/tao-fing/blob/master/LassoCVXPY.ipynb\" target=\"_parent\"><img src=\"https://colab.research.google.com/assets/colab-badge.svg\" alt=\"Open In Colab\"/></a>"
      ]
    },
    {
      "cell_type": "markdown",
      "metadata": {
        "id": "fyHK-cAGeFGw",
        "colab_type": "text"
      },
      "source": [
        "Sea el problema no diferenciable sin restricciones\n",
        "\n",
        "\\begin{align}\n",
        "(QP) \\min_{\\mathbf x \\in R^{n},\\mathbf t \\in R^{n}} & \\frac{1}{2}\\|\\mathbf{A}\\vec{x} -\\vec{b} \\|^2  + \\sum_{i=1}^n t_i\\\\\n",
        " \\textrm{sujeto a: } x_i& \\leq t_i \\\\\n",
        " -x_i&\\leq t_i \n",
        "\\end{align}\n"
      ]
    },
    {
      "cell_type": "code",
      "metadata": {
        "colab_type": "code",
        "id": "ZxNP2uruteMQ",
        "colab": {}
      },
      "source": [
        "# Import packages.\n",
        "import cvxpy as cp\n",
        "import numpy as np\n",
        "\n"
      ],
      "execution_count": 0,
      "outputs": []
    },
    {
      "cell_type": "code",
      "metadata": {
        "id": "YXMhF2-onCjr",
        "colab_type": "code",
        "outputId": "456a3f3d-790f-41ab-d8c4-449d920dabcc",
        "colab": {
          "base_uri": "https://localhost:8080/",
          "height": 128
        }
      },
      "source": [
        "load A.asc\n",
        "load b.asc\n",
        "lambda=1;\n",
        "\n",
        "x=cp.Variable(2)\n",
        "t=cp.Variable(2)  \n",
        "cost=0.5*cp.sum_squares(A*x-b)+lambda*cp.sum(t)\n",
        "constraints =[t>=x, t>0-x]\n",
        "prob = cp.Problem(cp.Minimize(cost),constraints)\n",
        "prob.solve()\n",
        "\n",
        "print(\"El costo óptimo es\", prob.value)\n",
        "print(\"La variable x óptima es, %s\" %x.value)\n",
        "print(\"La variable t óptima es, %s\" %t.value)\n"
      ],
      "execution_count": 2,
      "outputs": [
        {
          "output_type": "error",
          "ename": "SyntaxError",
          "evalue": "ignored",
          "traceback": [
            "\u001b[0;36m  File \u001b[0;32m\"<ipython-input-2-868096dcd3ad>\"\u001b[0;36m, line \u001b[0;32m1\u001b[0m\n\u001b[0;31m    load A.asc\u001b[0m\n\u001b[0m         ^\u001b[0m\n\u001b[0;31mSyntaxError\u001b[0m\u001b[0;31m:\u001b[0m invalid syntax\n"
          ]
        }
      ]
    },
    {
      "cell_type": "markdown",
      "metadata": {
        "id": "nTP0of9J98bg",
        "colab_type": "text"
      },
      "source": [
        "a) Probar incrementar y reducir $R$, $d_2$, y $d_3$.\n",
        "\n",
        "b) Relacionar los cambios en el costo óptimo con $\\mu_1$, $\\mu_2$,  $\\lambda_1$, $\\lambda_2$.\n",
        "\n",
        "c) ¿Baja o sube el costo al incrementar $R$?\n",
        "\n",
        "d) ¿Baja o sube el costo al incrementar $d_3$?\n"
      ]
    },
    {
      "cell_type": "code",
      "metadata": {
        "id": "g67ob8nbC0Jt",
        "colab_type": "code",
        "colab": {}
      },
      "source": [
        "\n",
        "#Escribir código aquí"
      ],
      "execution_count": 0,
      "outputs": []
    },
    {
      "cell_type": "markdown",
      "metadata": {
        "id": "RfXvuAHaC-wj",
        "colab_type": "text"
      },
      "source": [
        "e) Obtener un conjunto de parámetros que desactiven la restricción $|p_2-p_3|\\leq 3*R$."
      ]
    },
    {
      "cell_type": "code",
      "metadata": {
        "id": "cD0QQgz1DWDy",
        "colab_type": "code",
        "colab": {}
      },
      "source": [
        "#Escribir código aquí"
      ],
      "execution_count": 0,
      "outputs": []
    },
    {
      "cell_type": "markdown",
      "metadata": {
        "id": "SAux8TYWDjkf",
        "colab_type": "text"
      },
      "source": [
        "\n",
        "f) Obtener un conjunto de parámetros que activen la restricción $g\\geq 0$.\n",
        "\n",
        "g) ¿Qué sucede en este caso si se elimina la restricción  $g\\geq 0$?\n"
      ]
    },
    {
      "cell_type": "code",
      "metadata": {
        "id": "tpJFA8rIDmll",
        "colab_type": "code",
        "colab": {}
      },
      "source": [
        "#Escribir código aquí"
      ],
      "execution_count": 0,
      "outputs": []
    },
    {
      "cell_type": "markdown",
      "metadata": {
        "id": "dNpYIMDKDnRB",
        "colab_type": "text"
      },
      "source": [
        "\n",
        "g) ¿Qué sucede si se cambia el costo del generador en la barra 2 a $c_2=0.5$?\n"
      ]
    },
    {
      "cell_type": "code",
      "metadata": {
        "id": "XGpZUuExDzer",
        "colab_type": "code",
        "colab": {}
      },
      "source": [
        "#Escribir código aquí"
      ],
      "execution_count": 0,
      "outputs": []
    },
    {
      "cell_type": "markdown",
      "metadata": {
        "id": "g1BXBEOyD0Hn",
        "colab_type": "text"
      },
      "source": [
        "h) Repetir para un costo cuadrático $c(g_1,g_2)=g_1^2+g_2^2$. \n"
      ]
    },
    {
      "cell_type": "code",
      "metadata": {
        "id": "UHBsmOcZEBsz",
        "colab_type": "code",
        "colab": {}
      },
      "source": [
        "#Escribir código aquí"
      ],
      "execution_count": 0,
      "outputs": []
    },
    {
      "cell_type": "markdown",
      "metadata": {
        "id": "lCKiGpCrCLSB",
        "colab_type": "text"
      },
      "source": [
        "i) Escribir el problema de DC-OPF para la red de la siguiente figura, e implementarlo en CVX.$"
      ]
    },
    {
      "cell_type": "code",
      "metadata": {
        "id": "OSWLje0xJ3G9",
        "colab_type": "code",
        "outputId": "dbf8be92-5b06-4a4a-9ea5-b80e656f4b87",
        "colab": {
          "base_uri": "https://localhost:8080/",
          "height": 240
        }
      },
      "source": [
        "from IPython.display import Image\n",
        "from IPython.core.display import HTML \n",
        "\n",
        "\n",
        "Image(url= \"https://drive.google.com/uc?id=1zKqS2zehsZ2IxdM8sdNr7CHbdVfmTxtW\", width=400)\n"
      ],
      "execution_count": 0,
      "outputs": [
        {
          "output_type": "execute_result",
          "data": {
            "text/html": [
              "<img src=\"https://drive.google.com/uc?id=1zKqS2zehsZ2IxdM8sdNr7CHbdVfmTxtW\" width=\"400\"/>"
            ],
            "text/plain": [
              "<IPython.core.display.Image object>"
            ]
          },
          "metadata": {
            "tags": []
          },
          "execution_count": 8
        }
      ]
    }
  ]
}