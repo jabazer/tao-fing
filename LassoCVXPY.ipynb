{
  "nbformat": 4,
  "nbformat_minor": 0,
  "metadata": {
    "colab": {
      "name": "LassoCVXPY.ipynb",
      "version": "0.3.2",
      "provenance": [],
      "include_colab_link": true
    },
    "kernelspec": {
      "name": "python3",
      "display_name": "Python 3"
    }
  },
  "cells": [
    {
      "cell_type": "markdown",
      "metadata": {
        "id": "view-in-github",
        "colab_type": "text"
      },
      "source": [
        "<a href=\"https://colab.research.google.com/github/jabazer/tao-fing/blob/master/LassoCVXPY.ipynb\" target=\"_parent\"><img src=\"https://colab.research.google.com/assets/colab-badge.svg\" alt=\"Open In Colab\"/></a>"
      ]
    },
    {
      "cell_type": "markdown",
      "metadata": {
        "id": "fyHK-cAGeFGw",
        "colab_type": "text"
      },
      "source": [
        "Sea el problema no diferenciable sin restricciones\n",
        "\n",
        "\\begin{align}\n",
        "(QP) \\min_{\\mathbf x \\in R^{n},\\mathbf t \\in R^{n}} & \\frac{1}{2}\\|\\mathbf{A}\\vec{x} -\\vec{b} \\|^2  + \\sum_{i=1}^n t_i\\\\\n",
        " \\textrm{sujeto a: } x_i& \\leq t_i \\\\\n",
        " -x_i&\\leq t_i \n",
        "\\end{align}\n"
      ]
    },
    {
      "cell_type": "code",
      "metadata": {
        "colab_type": "code",
        "id": "ZxNP2uruteMQ",
        "colab": {
          "base_uri": "https://localhost:8080/",
          "height": 355
        },
        "outputId": "328b8634-8c47-4e5e-abfb-4c207483453a"
      },
      "source": [
        "# Import packages.\n",
        "import cvxpy as cp\n",
        "import numpy as np\n",
        "\n",
        "\n"
      ],
      "execution_count": 6,
      "outputs": [
        {
          "output_type": "error",
          "ename": "ModuleNotFoundError",
          "evalue": "ignored",
          "traceback": [
            "\u001b[0;31m---------------------------------------------------------------------------\u001b[0m",
            "\u001b[0;31mModuleNotFoundError\u001b[0m                       Traceback (most recent call last)",
            "\u001b[0;32m<ipython-input-6-c9d2c9b114b9>\u001b[0m in \u001b[0;36m<module>\u001b[0;34m()\u001b[0m\n\u001b[1;32m      1\u001b[0m \u001b[0;32mimport\u001b[0m \u001b[0mcvxpy\u001b[0m \u001b[0;32mas\u001b[0m \u001b[0mcp\u001b[0m\u001b[0;34m\u001b[0m\u001b[0;34m\u001b[0m\u001b[0m\n\u001b[1;32m      2\u001b[0m \u001b[0;32mimport\u001b[0m \u001b[0mnumpy\u001b[0m \u001b[0;32mas\u001b[0m \u001b[0mnp\u001b[0m\u001b[0;34m\u001b[0m\u001b[0;34m\u001b[0m\u001b[0m\n\u001b[0;32m----> 3\u001b[0;31m \u001b[0;32mimport\u001b[0m \u001b[0mpyplot\u001b[0m \u001b[0;32mas\u001b[0m \u001b[0mplt\u001b[0m\u001b[0;34m\u001b[0m\u001b[0;34m\u001b[0m\u001b[0m\n\u001b[0m\u001b[1;32m      4\u001b[0m \u001b[0;34m\u001b[0m\u001b[0m\n",
            "\u001b[0;31mModuleNotFoundError\u001b[0m: No module named 'pyplot'",
            "",
            "\u001b[0;31m---------------------------------------------------------------------------\u001b[0;32m\nNOTE: If your import is failing due to a missing package, you can\nmanually install dependencies using either !pip or !apt.\n\nTo view examples of installing some common dependencies, click the\n\"Open Examples\" button below.\n\u001b[0;31m---------------------------------------------------------------------------\u001b[0m\n"
          ]
        }
      ]
    },
    {
      "cell_type": "code",
      "metadata": {
        "id": "YXMhF2-onCjr",
        "colab_type": "code",
        "outputId": "3b855f0f-09a0-440f-cddc-b2e6b27f412e",
        "colab": {
          "base_uri": "https://localhost:8080/",
          "height": 155
        }
      },
      "source": [
        "A=np.array([[-4.100000000000000000e+01, 2.000000000000000000e+01],\n",
        "[-4.600000000000000000e+01, -8.000000000000000000e+00],\n",
        "[-5.000000000000000000e+00, -3.300000000000000000e+01],\n",
        "[-5.500000000000000000e+01, 1.000000000000000000e+00],\n",
        "[-5.500000000000000000e+01, -6.000000000000000000e+00]])\n",
        "\n",
        "b=[8.000000000000000000e+00 , 5.000000000000000000e+00, -3.000000000000000000e+00, 1.000000000000000000e+01, 4.000000000000000000e+00]\n",
        "\n",
        "ele=1\n",
        "print(A)\n",
        "\n",
        "\n",
        "x=cp.Variable(2)\n",
        "t=cp.Variable(2)  \n",
        "cost=0.5*cp.sum_squares(A*x-b)+ele*cp.sum(t)\n",
        "constraints =[t>=x, t>=-x]\n",
        "prob = cp.Problem(cp.Minimize(cost),constraints)\n",
        "prob.solve()\n",
        "\n",
        "print(\"El costo óptimo es\", prob.value)\n",
        "print(\"La variable x óptima es, %s\" %x.value)\n",
        "print(\"La variable t óptima es, %s\" %t.value)\n"
      ],
      "execution_count": 31,
      "outputs": [
        {
          "output_type": "stream",
          "text": [
            "[[-41.  20.]\n",
            " [-46.  -8.]\n",
            " [ -5. -33.]\n",
            " [-55.   1.]\n",
            " [-55.  -6.]]\n",
            "El costo óptimo es 6.933762885809787\n",
            "La variable x óptima es, [-0.13274639  0.12730003]\n",
            "La variable t óptima es, [0.13274639 0.12730003]\n"
          ],
          "name": "stdout"
        }
      ]
    }
  ]
}